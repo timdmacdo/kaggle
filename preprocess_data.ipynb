{
 "cells": [
  {
   "cell_type": "markdown",
   "metadata": {},
   "source": [
    "# Preprocess data for machine learning\n",
    "\n",
    "### October 11, 2017\n",
    "### Tiffany Huang"
   ]
  },
  {
   "cell_type": "code",
   "execution_count": 1,
   "metadata": {
    "collapsed": true
   },
   "outputs": [],
   "source": [
    "import pandas as pd\n",
    "import numpy as np\n",
    "\n",
    "# Read the data into panda data frames.\n",
    "members_data = pd.read_csv('members.csv')\n",
    "song_data = pd.read_csv('songs.csv')\n",
    "raw_train_data = pd.read_csv('train.csv')\n",
    "raw_test_data = pd.read_csv('test.csv')"
   ]
  },
  {
   "cell_type": "code",
   "execution_count": 2,
   "metadata": {
    "collapsed": true
   },
   "outputs": [],
   "source": [
    "# Gather all the features together into one mega train and one mega test file\n",
    "train_data = pd.merge(raw_train_data, members_data, how = 'left', left_on = 'msno', right_on = 'msno')\n",
    "train_data = pd.merge(train_data, song_data, how = 'left', left_on = 'song_id', right_on = 'song_id')\n",
    "\n",
    "test_data = pd.merge(raw_test_data, members_data, how = 'left', left_on = 'msno', right_on = 'msno')\n",
    "test_data = pd.merge(raw_test_data, song_data, how = 'left', left_on = 'song_id', right_on = 'song_id')\n",
    "\n",
    "train_and_test_data = [train_data, test_data]"
   ]
  },
  {
   "cell_type": "code",
   "execution_count": 3,
   "metadata": {
    "scrolled": true
   },
   "outputs": [
    {
     "name": "stdout",
     "output_type": "stream",
     "text": [
      "['msno' 'song_id' 'source_system_tab' 'source_screen_name' 'source_type'\n",
      " 'target' 'city' 'bd' 'gender' 'registered_via' 'registration_init_time'\n",
      " 'expiration_date' 'song_length' 'genre_ids' 'artist_name' 'composer'\n",
      " 'lyricist' 'language']\n",
      "                                           msno  \\\n",
      "0  FGtllVqz18RPiwJj/edr2gV78zirAiY/9SmYvia+kCg=   \n",
      "1  Xumu+NIjS6QYVxDS4/t3SawvJ7viT9hPKXmf0RtLNx8=   \n",
      "2  Xumu+NIjS6QYVxDS4/t3SawvJ7viT9hPKXmf0RtLNx8=   \n",
      "3  Xumu+NIjS6QYVxDS4/t3SawvJ7viT9hPKXmf0RtLNx8=   \n",
      "4  FGtllVqz18RPiwJj/edr2gV78zirAiY/9SmYvia+kCg=   \n",
      "\n",
      "                                        song_id source_system_tab  \\\n",
      "0  BBzumQNXUHKdEBOB7mAJuzok+IJA1c2Ryg/yzTF6tik=           explore   \n",
      "1  bhp/MpSNoqoxOIB+/l8WPqu6jldth4DIpCm3ayXnJqM=        my library   \n",
      "2  JNWfrrC7zNN7BdMpsISKa4Mw+xVJYNnxXh3/Epw7QgY=        my library   \n",
      "3  2A87tzfnJTSWqD7gIZHisolhe4DMdzkbd6LzO1KHjNs=        my library   \n",
      "4  3qm6XTZ6MOCU11x8FIVbAGH5l5uMkT3/ZalWG1oo2Gc=           explore   \n",
      "\n",
      "    source_screen_name      source_type  target  city  bd  gender  \\\n",
      "0              Explore  online-playlist       1     1   0     NaN   \n",
      "1  Local playlist more   local-playlist       1    13  24  female   \n",
      "2  Local playlist more   local-playlist       1    13  24  female   \n",
      "3  Local playlist more   local-playlist       1    13  24  female   \n",
      "4              Explore  online-playlist       1     1   0     NaN   \n",
      "\n",
      "   registered_via  registration_init_time  expiration_date  song_length  \\\n",
      "0               7                20120102         20171005     206471.0   \n",
      "1               9                20110525         20170911     284584.0   \n",
      "2               9                20110525         20170911     225396.0   \n",
      "3               9                20110525         20170911     255512.0   \n",
      "4               7                20120102         20171005     187802.0   \n",
      "\n",
      "  genre_ids      artist_name                                 composer  \\\n",
      "0       359         Bastille                     Dan Smith| Mark Crew   \n",
      "1      1259  Various Artists                                      NaN   \n",
      "2      1259              Nas     N. Jones、W. Adams、J. Lordan、D. Ingle   \n",
      "3      1019         Soundway                            Kwadwo Donkoh   \n",
      "4      1011      Brett Young  Brett Young| Kelly Archer| Justin Ebach   \n",
      "\n",
      "  lyricist  language  \n",
      "0      NaN      52.0  \n",
      "1      NaN      52.0  \n",
      "2      NaN      52.0  \n",
      "3      NaN      -1.0  \n",
      "4      NaN      52.0  \n",
      "['source_system_tab', 'source_screen_name', 'source_type', 'gender', 'song_length', 'genre_ids', 'artist_name', 'composer', 'lyricist', 'language']\n"
     ]
    }
   ],
   "source": [
    "# Print feature names and a snapshot of training data\n",
    "print(train_data.columns.values)\n",
    "print(train_data.head())\n",
    "\n",
    "print(train_data.columns[train_data.isnull().any()].tolist())"
   ]
  },
  {
   "cell_type": "markdown",
   "metadata": {},
   "source": [
    "# Data Analysis\n",
    "\n",
    "1. Incomplete Fields:\n",
    "\n",
    "   - source_system_tab - Not worth\n",
    "   - source_screen_name - Not worth\n",
    "   - source_type - Maybe worth\n",
    "   - bd (age) - Need to fix outlier values like 0\n",
    "   - gender - Should fill this in, how?\n",
    "   - song_length - Maybe should fill this in, how?\n",
    "   - genre_ids - Should fill this in, how?\n",
    "   - artist_name - Maybe not worth\n",
    "   - composer - Maybe not worth\n",
    "   - lyricist - Maybe not worth\n",
    "   - language - Not worth\n",
    "\n",
    "\n",
    "2. Fields to Remove:\n",
    "   - msno\n",
    "   - song_id\n",
    "   - source_system_tab\n",
    "   - source_screen_name\n",
    "   - registered_via\n",
    "   - registration_init_time\n",
    "   - expiration_date\n",
    "   - artist_name? Without any prior knowledge of this person's taste, this is probably not helpful\n",
    "   - composer?\n",
    "   - lyricist?\n",
    "   - language\n",
    "\n",
    "\n",
    "3. Creating New Features:\n",
    "   - Change source_type to local or online -> 0 or 1\n",
    "   - Change ages to ranges (quartile?) -> 0 - 4\n",
    "   - Change gender to 0 or 1\n",
    "   - Change song length to ranges\n",
    "   "
   ]
  },
  {
   "cell_type": "code",
   "execution_count": 5,
   "metadata": {},
   "outputs": [
    {
     "data": {
      "text/plain": [
       " 0       2940499\n",
       " 25       261906\n",
       " 24       258688\n",
       " 26       257869\n",
       " 22       255731\n",
       " 27       253065\n",
       " 28       232548\n",
       " 23       228255\n",
       " 21       222087\n",
       " 29       211192\n",
       " 30       203157\n",
       " 20       189439\n",
       " 31       161844\n",
       " 32       151544\n",
       " 19       141066\n",
       " 33       127455\n",
       " 18       124868\n",
       " 34       115324\n",
       " 35       112529\n",
       " 17        87119\n",
       " 36        82632\n",
       " 37        79722\n",
       " 38        75166\n",
       " 40        54284\n",
       " 39        52676\n",
       " 41        51378\n",
       " 16        42164\n",
       " 43        35301\n",
       " 44        33542\n",
       " 45        31929\n",
       "          ...   \n",
       " 3           507\n",
       " 82          447\n",
       " 5           392\n",
       " 73          376\n",
       " 10          361\n",
       " 13          345\n",
       " 2           323\n",
       " 68          311\n",
       " 11          290\n",
       " 931         247\n",
       " 12          222\n",
       " 95          203\n",
       " 87          154\n",
       " 144         152\n",
       " 131         146\n",
       "-43          142\n",
       " 107          94\n",
       " 112          90\n",
       "-38           53\n",
       " 102          46\n",
       " 83           40\n",
       " 70           33\n",
       " 106          23\n",
       " 90           15\n",
       " 85           12\n",
       " 89           11\n",
       " 93           10\n",
       " 78            7\n",
       " 1051          6\n",
       " 76            3\n",
       "Name: bd, Length: 92, dtype: int64"
      ]
     },
     "execution_count": 5,
     "metadata": {},
     "output_type": "execute_result"
    }
   ],
   "source": [
    "train_data['bd'].value_counts()"
   ]
  },
  {
   "cell_type": "code",
   "execution_count": null,
   "metadata": {
    "collapsed": true
   },
   "outputs": [],
   "source": []
  }
 ],
 "metadata": {
  "kernelspec": {
   "display_name": "Python 2",
   "language": "python",
   "name": "python2"
  },
  "language_info": {
   "codemirror_mode": {
    "name": "ipython",
    "version": 2
   },
   "file_extension": ".py",
   "mimetype": "text/x-python",
   "name": "python",
   "nbconvert_exporter": "python",
   "pygments_lexer": "ipython2",
   "version": "2.7.13"
  }
 },
 "nbformat": 4,
 "nbformat_minor": 2
}

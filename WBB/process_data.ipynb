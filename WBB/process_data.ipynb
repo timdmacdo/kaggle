{
 "cells": [
  {
   "cell_type": "markdown",
   "metadata": {},
   "source": [
    "# Preprocess data for machine learning\n",
    "\n",
    "### February 22, 2018\n",
    "### Tiffany Huang & Tim MacDonald"
   ]
  },
  {
   "cell_type": "code",
<<<<<<< Updated upstream
   "execution_count": 2,
   "metadata": {},
=======
   "execution_count": 1,
   "metadata": {
    "collapsed": false,
    "deletable": true,
    "editable": true
   },
>>>>>>> Stashed changes
   "outputs": [
    {
     "name": "stdout",
     "output_type": "stream",
     "text": [
      "Scoring_Offense.xlsm\n",
      "WCities.csv\n",
      "WGameCities.csv\n",
      "WNCAATourneyCompactResults.csv\n",
      "WNCAATourneySeeds.csv\n",
      "WNCAATourneySlots.csv\n",
      "WRegularSeasonCompactResults.csv\n",
<<<<<<< Updated upstream
=======
      "WSampleSubmissionStage1.csv\n",
      "WScoringMargin.csv\n",
      "WScoringOffense.csv\n",
>>>>>>> Stashed changes
      "WSeasons.csv\n",
      "WTeamSpellings.csv\n",
      "WTeams.csv\n",
      "~$Scoring_Offense.xlsm\n",
      "~$WScoringOffense.xlsx\n",
      "\n"
     ]
    }
   ],
   "source": [
    "%matplotlib inline\n",
    "import numpy as np # linear algebra\n",
    "import pandas as pd # data processing, CSV file I/O (e.g. pd.read_csv)\n",
    "from sklearn.linear_model import LogisticRegression\n",
    "import matplotlib.pyplot as plt\n",
    "from sklearn.utils import shuffle\n",
    "from sklearn.model_selection import GridSearchCV\n",
    "\n",
    "# Input data files are available in the \"WDataFiles/\" directory.\n",
    "# For example, running this (by clicking run or pressing Shift+Enter) will list the files in the input directory\n",
    "\n",
    "from subprocess import check_output\n",
    "print(check_output([\"ls\", \"WDataFiles\"]).decode(\"utf8\"))"
   ]
  },
  {
   "cell_type": "markdown",
   "metadata": {},
   "source": [
    "# Load the Training Data"
   ]
  },
  {
   "cell_type": "code",
<<<<<<< Updated upstream
   "execution_count": 3,
   "metadata": {},
=======
   "execution_count": 2,
   "metadata": {
    "collapsed": false,
    "deletable": true,
    "editable": true
   },
>>>>>>> Stashed changes
   "outputs": [],
   "source": [
    "data_dir = 'WDataFiles/'\n",
    "df_seeds = pd.read_csv(data_dir + 'WNCAATourneySeeds.csv')\n",
    "df_tourney = pd.read_csv(data_dir + 'WNCAATourneyCompactResults.csv')\n",
    "df_reg_season = pd.read_csv(data_dir + 'WRegularSeasonCompactResults.csv')"
   ]
  },
  {
   "cell_type": "code",
<<<<<<< Updated upstream
   "execution_count": 4,
   "metadata": {},
=======
   "execution_count": 3,
   "metadata": {
    "collapsed": false,
    "deletable": true,
    "editable": true
   },
>>>>>>> Stashed changes
   "outputs": [
    {
     "data": {
      "text/html": [
       "<div>\n",
       "<style>\n",
       "    .dataframe thead tr:only-child th {\n",
       "        text-align: right;\n",
       "    }\n",
       "\n",
       "    .dataframe thead th {\n",
       "        text-align: left;\n",
       "    }\n",
       "\n",
       "    .dataframe tbody tr th {\n",
       "        vertical-align: top;\n",
       "    }\n",
       "</style>\n",
       "<table border=\"1\" class=\"dataframe\">\n",
       "  <thead>\n",
       "    <tr style=\"text-align: right;\">\n",
       "      <th></th>\n",
       "      <th>Season</th>\n",
       "      <th>Seed</th>\n",
       "      <th>TeamID</th>\n",
       "    </tr>\n",
       "  </thead>\n",
       "  <tbody>\n",
       "    <tr>\n",
       "      <th>0</th>\n",
       "      <td>1998</td>\n",
       "      <td>W01</td>\n",
       "      <td>3330</td>\n",
       "    </tr>\n",
       "    <tr>\n",
       "      <th>1</th>\n",
       "      <td>1998</td>\n",
       "      <td>W02</td>\n",
       "      <td>3163</td>\n",
       "    </tr>\n",
       "    <tr>\n",
       "      <th>2</th>\n",
       "      <td>1998</td>\n",
       "      <td>W03</td>\n",
       "      <td>3112</td>\n",
       "    </tr>\n",
       "    <tr>\n",
       "      <th>3</th>\n",
       "      <td>1998</td>\n",
       "      <td>W04</td>\n",
       "      <td>3301</td>\n",
       "    </tr>\n",
       "    <tr>\n",
       "      <th>4</th>\n",
       "      <td>1998</td>\n",
       "      <td>W05</td>\n",
       "      <td>3272</td>\n",
       "    </tr>\n",
       "  </tbody>\n",
       "</table>\n",
       "</div>"
      ],
      "text/plain": [
       "   Season Seed  TeamID\n",
       "0    1998  W01    3330\n",
       "1    1998  W02    3163\n",
       "2    1998  W03    3112\n",
       "3    1998  W04    3301\n",
       "4    1998  W05    3272"
      ]
     },
<<<<<<< Updated upstream
     "execution_count": 4,
=======
     "execution_count": 3,
>>>>>>> Stashed changes
     "metadata": {},
     "output_type": "execute_result"
    }
   ],
   "source": [
    "df_seeds.head()"
   ]
  },
  {
   "cell_type": "code",
<<<<<<< Updated upstream
   "execution_count": 5,
   "metadata": {},
=======
   "execution_count": 4,
   "metadata": {
    "collapsed": false,
    "deletable": true,
    "editable": true
   },
>>>>>>> Stashed changes
   "outputs": [
    {
     "data": {
      "text/html": [
       "<div>\n",
       "<style>\n",
       "    .dataframe thead tr:only-child th {\n",
       "        text-align: right;\n",
       "    }\n",
       "\n",
       "    .dataframe thead th {\n",
       "        text-align: left;\n",
       "    }\n",
       "\n",
       "    .dataframe tbody tr th {\n",
       "        vertical-align: top;\n",
       "    }\n",
       "</style>\n",
       "<table border=\"1\" class=\"dataframe\">\n",
       "  <thead>\n",
       "    <tr style=\"text-align: right;\">\n",
       "      <th></th>\n",
       "      <th>Season</th>\n",
       "      <th>DayNum</th>\n",
       "      <th>WTeamID</th>\n",
       "      <th>WScore</th>\n",
       "      <th>LTeamID</th>\n",
       "      <th>LScore</th>\n",
       "      <th>WLoc</th>\n",
       "      <th>NumOT</th>\n",
       "    </tr>\n",
       "  </thead>\n",
       "  <tbody>\n",
       "    <tr>\n",
       "      <th>0</th>\n",
       "      <td>1998</td>\n",
       "      <td>137</td>\n",
       "      <td>3104</td>\n",
       "      <td>94</td>\n",
       "      <td>3422</td>\n",
       "      <td>46</td>\n",
       "      <td>H</td>\n",
       "      <td>0</td>\n",
       "    </tr>\n",
       "    <tr>\n",
       "      <th>1</th>\n",
       "      <td>1998</td>\n",
       "      <td>137</td>\n",
       "      <td>3112</td>\n",
       "      <td>75</td>\n",
       "      <td>3365</td>\n",
       "      <td>63</td>\n",
       "      <td>H</td>\n",
       "      <td>0</td>\n",
       "    </tr>\n",
       "    <tr>\n",
       "      <th>2</th>\n",
       "      <td>1998</td>\n",
       "      <td>137</td>\n",
       "      <td>3163</td>\n",
       "      <td>93</td>\n",
       "      <td>3193</td>\n",
       "      <td>52</td>\n",
       "      <td>H</td>\n",
       "      <td>0</td>\n",
       "    </tr>\n",
       "    <tr>\n",
       "      <th>3</th>\n",
       "      <td>1998</td>\n",
       "      <td>137</td>\n",
       "      <td>3198</td>\n",
       "      <td>59</td>\n",
       "      <td>3266</td>\n",
       "      <td>45</td>\n",
       "      <td>H</td>\n",
       "      <td>0</td>\n",
       "    </tr>\n",
       "    <tr>\n",
       "      <th>4</th>\n",
       "      <td>1998</td>\n",
       "      <td>137</td>\n",
       "      <td>3203</td>\n",
       "      <td>74</td>\n",
       "      <td>3208</td>\n",
       "      <td>72</td>\n",
       "      <td>A</td>\n",
       "      <td>0</td>\n",
       "    </tr>\n",
       "  </tbody>\n",
       "</table>\n",
       "</div>"
      ],
      "text/plain": [
       "   Season  DayNum  WTeamID  WScore  LTeamID  LScore WLoc  NumOT\n",
       "0    1998     137     3104      94     3422      46    H      0\n",
       "1    1998     137     3112      75     3365      63    H      0\n",
       "2    1998     137     3163      93     3193      52    H      0\n",
       "3    1998     137     3198      59     3266      45    H      0\n",
       "4    1998     137     3203      74     3208      72    A      0"
      ]
     },
<<<<<<< Updated upstream
     "execution_count": 5,
=======
     "execution_count": 4,
>>>>>>> Stashed changes
     "metadata": {},
     "output_type": "execute_result"
    }
   ],
   "source": [
    "df_tourney.head()"
   ]
  },
  {
   "cell_type": "code",
<<<<<<< Updated upstream
   "execution_count": 6,
   "metadata": {},
=======
   "execution_count": 5,
   "metadata": {
    "collapsed": false,
    "deletable": true,
    "editable": true
   },
>>>>>>> Stashed changes
   "outputs": [
    {
     "data": {
      "text/html": [
       "<div>\n",
       "<style>\n",
       "    .dataframe thead tr:only-child th {\n",
       "        text-align: right;\n",
       "    }\n",
       "\n",
       "    .dataframe thead th {\n",
       "        text-align: left;\n",
       "    }\n",
       "\n",
       "    .dataframe tbody tr th {\n",
       "        vertical-align: top;\n",
       "    }\n",
       "</style>\n",
       "<table border=\"1\" class=\"dataframe\">\n",
       "  <thead>\n",
       "    <tr style=\"text-align: right;\">\n",
       "      <th></th>\n",
       "      <th>Season</th>\n",
       "      <th>DayNum</th>\n",
       "      <th>WTeamID</th>\n",
       "      <th>WScore</th>\n",
       "      <th>LTeamID</th>\n",
       "      <th>LScore</th>\n",
       "      <th>WLoc</th>\n",
       "      <th>NumOT</th>\n",
       "    </tr>\n",
       "  </thead>\n",
       "  <tbody>\n",
       "    <tr>\n",
       "      <th>0</th>\n",
       "      <td>1998</td>\n",
       "      <td>18</td>\n",
       "      <td>3104</td>\n",
       "      <td>91</td>\n",
       "      <td>3202</td>\n",
       "      <td>41</td>\n",
       "      <td>H</td>\n",
       "      <td>0</td>\n",
       "    </tr>\n",
       "    <tr>\n",
       "      <th>1</th>\n",
       "      <td>1998</td>\n",
       "      <td>18</td>\n",
       "      <td>3163</td>\n",
       "      <td>87</td>\n",
       "      <td>3221</td>\n",
       "      <td>76</td>\n",
       "      <td>H</td>\n",
       "      <td>0</td>\n",
       "    </tr>\n",
       "    <tr>\n",
       "      <th>2</th>\n",
       "      <td>1998</td>\n",
       "      <td>18</td>\n",
       "      <td>3222</td>\n",
       "      <td>66</td>\n",
       "      <td>3261</td>\n",
       "      <td>59</td>\n",
       "      <td>H</td>\n",
       "      <td>0</td>\n",
       "    </tr>\n",
       "    <tr>\n",
       "      <th>3</th>\n",
       "      <td>1998</td>\n",
       "      <td>18</td>\n",
       "      <td>3307</td>\n",
       "      <td>69</td>\n",
       "      <td>3365</td>\n",
       "      <td>62</td>\n",
       "      <td>H</td>\n",
       "      <td>0</td>\n",
       "    </tr>\n",
       "    <tr>\n",
       "      <th>4</th>\n",
       "      <td>1998</td>\n",
       "      <td>18</td>\n",
       "      <td>3349</td>\n",
       "      <td>115</td>\n",
       "      <td>3411</td>\n",
       "      <td>35</td>\n",
       "      <td>H</td>\n",
       "      <td>0</td>\n",
       "    </tr>\n",
       "  </tbody>\n",
       "</table>\n",
       "</div>"
      ],
      "text/plain": [
       "   Season  DayNum  WTeamID  WScore  LTeamID  LScore WLoc  NumOT\n",
       "0    1998      18     3104      91     3202      41    H      0\n",
       "1    1998      18     3163      87     3221      76    H      0\n",
       "2    1998      18     3222      66     3261      59    H      0\n",
       "3    1998      18     3307      69     3365      62    H      0\n",
       "4    1998      18     3349     115     3411      35    H      0"
      ]
     },
<<<<<<< Updated upstream
     "execution_count": 6,
=======
     "execution_count": 5,
>>>>>>> Stashed changes
     "metadata": {},
     "output_type": "execute_result"
    }
   ],
   "source": [
    "df_reg_season.head()"
   ]
  },
  {
   "cell_type": "code",
<<<<<<< Updated upstream
   "execution_count": 7,
   "metadata": {},
=======
   "execution_count": 6,
   "metadata": {
    "collapsed": false,
    "deletable": true,
    "editable": true
   },
>>>>>>> Stashed changes
   "outputs": [
    {
     "data": {
      "text/html": [
       "<div>\n",
       "<style>\n",
       "    .dataframe thead tr:only-child th {\n",
       "        text-align: right;\n",
       "    }\n",
       "\n",
       "    .dataframe thead th {\n",
       "        text-align: left;\n",
       "    }\n",
       "\n",
       "    .dataframe tbody tr th {\n",
       "        vertical-align: top;\n",
       "    }\n",
       "</style>\n",
       "<table border=\"1\" class=\"dataframe\">\n",
       "  <thead>\n",
       "    <tr style=\"text-align: right;\">\n",
       "      <th></th>\n",
       "      <th>Season</th>\n",
       "      <th>TeamID</th>\n",
       "      <th>seed_int</th>\n",
       "    </tr>\n",
       "  </thead>\n",
       "  <tbody>\n",
       "    <tr>\n",
       "      <th>0</th>\n",
       "      <td>1998</td>\n",
       "      <td>3330</td>\n",
       "      <td>1</td>\n",
       "    </tr>\n",
       "    <tr>\n",
       "      <th>1</th>\n",
       "      <td>1998</td>\n",
       "      <td>3163</td>\n",
       "      <td>2</td>\n",
       "    </tr>\n",
       "    <tr>\n",
       "      <th>2</th>\n",
       "      <td>1998</td>\n",
       "      <td>3112</td>\n",
       "      <td>3</td>\n",
       "    </tr>\n",
       "    <tr>\n",
       "      <th>3</th>\n",
       "      <td>1998</td>\n",
       "      <td>3301</td>\n",
       "      <td>4</td>\n",
       "    </tr>\n",
       "    <tr>\n",
       "      <th>4</th>\n",
       "      <td>1998</td>\n",
       "      <td>3272</td>\n",
       "      <td>5</td>\n",
       "    </tr>\n",
       "  </tbody>\n",
       "</table>\n",
       "</div>"
      ],
      "text/plain": [
       "   Season  TeamID  seed_int\n",
       "0    1998    3330         1\n",
       "1    1998    3163         2\n",
       "2    1998    3112         3\n",
       "3    1998    3301         4\n",
       "4    1998    3272         5"
      ]
     },
<<<<<<< Updated upstream
     "execution_count": 7,
=======
     "execution_count": 6,
>>>>>>> Stashed changes
     "metadata": {},
     "output_type": "execute_result"
    }
   ],
   "source": [
    "# First, we'll simplify the datasets to remove the columns we won't be using \n",
    "# and convert the seedings to the needed format (stripping the regional abbreviation in front of the seed).\n",
    "\n",
    "# Get just the digits from the seeding. Return as int\n",
    "def seed_to_int(seed):\n",
    "    s_int = int(seed[1:3])\n",
    "    return s_int\n",
    "df_seeds['seed_int'] = df_seeds.Seed.apply(seed_to_int)\n",
    "df_seeds.drop(labels=['Seed'], inplace=True, axis=1) # This is the string label\n",
    "df_seeds.head()"
   ]
  },
  {
   "cell_type": "code",
<<<<<<< Updated upstream
   "execution_count": 8,
   "metadata": {},
=======
   "execution_count": 7,
   "metadata": {
    "collapsed": false,
    "deletable": true,
    "editable": true
   },
>>>>>>> Stashed changes
   "outputs": [
    {
     "data": {
      "text/html": [
       "<div>\n",
       "<style>\n",
       "    .dataframe thead tr:only-child th {\n",
       "        text-align: right;\n",
       "    }\n",
       "\n",
       "    .dataframe thead th {\n",
       "        text-align: left;\n",
       "    }\n",
       "\n",
       "    .dataframe tbody tr th {\n",
       "        vertical-align: top;\n",
       "    }\n",
       "</style>\n",
       "<table border=\"1\" class=\"dataframe\">\n",
       "  <thead>\n",
       "    <tr style=\"text-align: right;\">\n",
       "      <th></th>\n",
       "      <th>Season</th>\n",
       "      <th>WTeamID</th>\n",
       "      <th>LTeamID</th>\n",
       "    </tr>\n",
       "  </thead>\n",
       "  <tbody>\n",
       "    <tr>\n",
       "      <th>0</th>\n",
       "      <td>1998</td>\n",
       "      <td>3104</td>\n",
       "      <td>3422</td>\n",
       "    </tr>\n",
       "    <tr>\n",
       "      <th>1</th>\n",
       "      <td>1998</td>\n",
       "      <td>3112</td>\n",
       "      <td>3365</td>\n",
       "    </tr>\n",
       "    <tr>\n",
       "      <th>2</th>\n",
       "      <td>1998</td>\n",
       "      <td>3163</td>\n",
       "      <td>3193</td>\n",
       "    </tr>\n",
       "    <tr>\n",
       "      <th>3</th>\n",
       "      <td>1998</td>\n",
       "      <td>3198</td>\n",
       "      <td>3266</td>\n",
       "    </tr>\n",
       "    <tr>\n",
       "      <th>4</th>\n",
       "      <td>1998</td>\n",
       "      <td>3203</td>\n",
       "      <td>3208</td>\n",
       "    </tr>\n",
       "  </tbody>\n",
       "</table>\n",
       "</div>"
      ],
      "text/plain": [
       "   Season  WTeamID  LTeamID\n",
       "0    1998     3104     3422\n",
       "1    1998     3112     3365\n",
       "2    1998     3163     3193\n",
       "3    1998     3198     3266\n",
       "4    1998     3203     3208"
      ]
     },
<<<<<<< Updated upstream
     "execution_count": 8,
=======
     "execution_count": 7,
>>>>>>> Stashed changes
     "metadata": {},
     "output_type": "execute_result"
    }
   ],
   "source": [
    "df_tourney.drop(labels=['DayNum', 'WScore', 'LScore', 'WLoc', 'NumOT'], inplace=True, axis=1)\n",
    "df_tourney.head()"
   ]
  },
  {
   "cell_type": "code",
<<<<<<< Updated upstream
   "execution_count": 9,
   "metadata": {},
=======
   "execution_count": 8,
   "metadata": {
    "collapsed": false,
    "deletable": true,
    "editable": true
   },
>>>>>>> Stashed changes
   "outputs": [
    {
     "data": {
      "text/html": [
       "<div>\n",
       "<style>\n",
       "    .dataframe thead tr:only-child th {\n",
       "        text-align: right;\n",
       "    }\n",
       "\n",
       "    .dataframe thead th {\n",
       "        text-align: left;\n",
       "    }\n",
       "\n",
       "    .dataframe tbody tr th {\n",
       "        vertical-align: top;\n",
       "    }\n",
       "</style>\n",
       "<table border=\"1\" class=\"dataframe\">\n",
       "  <thead>\n",
       "    <tr style=\"text-align: right;\">\n",
       "      <th></th>\n",
       "      <th>Season</th>\n",
       "      <th>WTeamID</th>\n",
       "      <th>LTeamID</th>\n",
       "    </tr>\n",
       "  </thead>\n",
       "  <tbody>\n",
       "    <tr>\n",
       "      <th>0</th>\n",
       "      <td>1998</td>\n",
       "      <td>3104</td>\n",
       "      <td>3202</td>\n",
       "    </tr>\n",
       "    <tr>\n",
       "      <th>1</th>\n",
       "      <td>1998</td>\n",
       "      <td>3163</td>\n",
       "      <td>3221</td>\n",
       "    </tr>\n",
       "    <tr>\n",
       "      <th>2</th>\n",
       "      <td>1998</td>\n",
       "      <td>3222</td>\n",
       "      <td>3261</td>\n",
       "    </tr>\n",
       "    <tr>\n",
       "      <th>3</th>\n",
       "      <td>1998</td>\n",
       "      <td>3307</td>\n",
       "      <td>3365</td>\n",
       "    </tr>\n",
       "    <tr>\n",
       "      <th>4</th>\n",
       "      <td>1998</td>\n",
       "      <td>3349</td>\n",
       "      <td>3411</td>\n",
       "    </tr>\n",
       "  </tbody>\n",
       "</table>\n",
       "</div>"
      ],
      "text/plain": [
       "   Season  WTeamID  LTeamID\n",
       "0    1998     3104     3202\n",
       "1    1998     3163     3221\n",
       "2    1998     3222     3261\n",
       "3    1998     3307     3365\n",
       "4    1998     3349     3411"
      ]
     },
<<<<<<< Updated upstream
     "execution_count": 9,
=======
     "execution_count": 8,
>>>>>>> Stashed changes
     "metadata": {},
     "output_type": "execute_result"
    }
   ],
   "source": [
    "df_reg_season.drop(labels=['DayNum', 'WScore', 'LScore', 'WLoc', 'NumOT'], inplace=True, axis=1)\n",
    "df_reg_season.head()"
   ]
  },
  {
   "cell_type": "code",
<<<<<<< Updated upstream
   "execution_count": 10,
=======
   "execution_count": 9,
>>>>>>> Stashed changes
   "metadata": {
    "collapsed": true
   },
   "outputs": [],
   "source": [
    "# Find the record during the regular season between two teams\n",
    "def regSeasonToRecord(df):\n",
    "    record_dict = {}\n",
    "    for row in df.itertuples():\n",
    "        if ((row[2], row[3]) in record_dict):\n",
    "            record_dict[(row[2], row[3])] += 1\n",
    "        else:\n",
    "            record_dict[(row[2], row[3])] = 1\n",
    "    return record_dict"
   ]
  },
  {
   "cell_type": "code",
<<<<<<< Updated upstream
   "execution_count": 11,
   "metadata": {},
=======
   "execution_count": 10,
   "metadata": {
    "collapsed": false,
    "deletable": true,
    "editable": true
   },
>>>>>>> Stashed changes
   "outputs": [
    {
     "data": {
      "text/html": [
       "<div>\n",
       "<style>\n",
       "    .dataframe thead tr:only-child th {\n",
       "        text-align: right;\n",
       "    }\n",
       "\n",
       "    .dataframe thead th {\n",
       "        text-align: left;\n",
       "    }\n",
       "\n",
       "    .dataframe tbody tr th {\n",
       "        vertical-align: top;\n",
       "    }\n",
       "</style>\n",
       "<table border=\"1\" class=\"dataframe\">\n",
       "  <thead>\n",
       "    <tr style=\"text-align: right;\">\n",
       "      <th></th>\n",
       "      <th>Season</th>\n",
       "      <th>WTeamID</th>\n",
       "      <th>LTeamID</th>\n",
       "      <th>WSeed</th>\n",
       "      <th>LSeed</th>\n",
       "      <th>SeedDiff</th>\n",
       "    </tr>\n",
       "  </thead>\n",
       "  <tbody>\n",
       "    <tr>\n",
       "      <th>0</th>\n",
       "      <td>1998</td>\n",
       "      <td>3104</td>\n",
       "      <td>3422</td>\n",
       "      <td>2</td>\n",
       "      <td>15</td>\n",
       "      <td>-13</td>\n",
       "    </tr>\n",
       "    <tr>\n",
       "      <th>1</th>\n",
       "      <td>1998</td>\n",
       "      <td>3112</td>\n",
       "      <td>3365</td>\n",
       "      <td>3</td>\n",
       "      <td>14</td>\n",
       "      <td>-11</td>\n",
       "    </tr>\n",
       "    <tr>\n",
       "      <th>2</th>\n",
       "      <td>1998</td>\n",
       "      <td>3163</td>\n",
       "      <td>3193</td>\n",
       "      <td>2</td>\n",
       "      <td>15</td>\n",
       "      <td>-13</td>\n",
       "    </tr>\n",
       "    <tr>\n",
       "      <th>3</th>\n",
       "      <td>1998</td>\n",
       "      <td>3198</td>\n",
       "      <td>3266</td>\n",
       "      <td>7</td>\n",
       "      <td>10</td>\n",
       "      <td>-3</td>\n",
       "    </tr>\n",
       "    <tr>\n",
       "      <th>4</th>\n",
       "      <td>1998</td>\n",
       "      <td>3203</td>\n",
       "      <td>3208</td>\n",
       "      <td>10</td>\n",
       "      <td>7</td>\n",
       "      <td>3</td>\n",
       "    </tr>\n",
       "  </tbody>\n",
       "</table>\n",
       "</div>"
      ],
      "text/plain": [
       "   Season  WTeamID  LTeamID  WSeed  LSeed  SeedDiff\n",
       "0    1998     3104     3422      2     15       -13\n",
       "1    1998     3112     3365      3     14       -11\n",
       "2    1998     3163     3193      2     15       -13\n",
       "3    1998     3198     3266      7     10        -3\n",
       "4    1998     3203     3208     10      7         3"
      ]
     },
<<<<<<< Updated upstream
     "execution_count": 11,
=======
     "execution_count": 10,
>>>>>>> Stashed changes
     "metadata": {},
     "output_type": "execute_result"
    }
   ],
   "source": [
    "# Merge the Seeds with their corresponding TeamIDs in the compact results dataframe.\n",
    "df_winseeds = df_seeds.rename(columns={'TeamID':'WTeamID', 'seed_int':'WSeed'})\n",
    "df_lossseeds = df_seeds.rename(columns={'TeamID':'LTeamID', 'seed_int':'LSeed'})\n",
    "df_dummy = pd.merge(left=df_tourney, right=df_winseeds, how='left', on=['Season', 'WTeamID'])\n",
    "df_concat = pd.merge(left=df_dummy, right=df_lossseeds, on=['Season', 'LTeamID'])\n",
    "df_concat['SeedDiff'] = df_concat.WSeed - df_concat.LSeed\n",
    "df_concat.head()"
   ]
  },
  {
   "cell_type": "code",
<<<<<<< Updated upstream
   "execution_count": 12,
   "metadata": {},
=======
   "execution_count": 11,
   "metadata": {
    "collapsed": false,
    "deletable": true,
    "editable": true
   },
>>>>>>> Stashed changes
   "outputs": [
    {
     "data": {
      "text/html": [
       "<div>\n",
       "<style>\n",
       "    .dataframe thead tr:only-child th {\n",
       "        text-align: right;\n",
       "    }\n",
       "\n",
       "    .dataframe thead th {\n",
       "        text-align: left;\n",
       "    }\n",
       "\n",
       "    .dataframe tbody tr th {\n",
       "        vertical-align: top;\n",
       "    }\n",
       "</style>\n",
       "<table border=\"1\" class=\"dataframe\">\n",
       "  <thead>\n",
       "    <tr style=\"text-align: right;\">\n",
       "      <th></th>\n",
       "      <th>Season</th>\n",
       "      <th>WTeamID</th>\n",
       "      <th>LTeamID</th>\n",
       "      <th>WSeed</th>\n",
       "      <th>LSeed</th>\n",
       "      <th>SeedDiff</th>\n",
       "      <th>Record</th>\n",
       "    </tr>\n",
       "  </thead>\n",
       "  <tbody>\n",
       "    <tr>\n",
       "      <th>0</th>\n",
       "      <td>1998</td>\n",
       "      <td>3104</td>\n",
       "      <td>3422</td>\n",
       "      <td>2</td>\n",
       "      <td>15</td>\n",
       "      <td>-13</td>\n",
       "      <td>0.0</td>\n",
       "    </tr>\n",
       "    <tr>\n",
       "      <th>1</th>\n",
       "      <td>1998</td>\n",
       "      <td>3112</td>\n",
       "      <td>3365</td>\n",
       "      <td>3</td>\n",
       "      <td>14</td>\n",
       "      <td>-11</td>\n",
       "      <td>0.0</td>\n",
       "    </tr>\n",
       "    <tr>\n",
       "      <th>2</th>\n",
       "      <td>1998</td>\n",
       "      <td>3163</td>\n",
       "      <td>3193</td>\n",
       "      <td>2</td>\n",
       "      <td>15</td>\n",
       "      <td>-13</td>\n",
       "      <td>2.0</td>\n",
       "    </tr>\n",
       "    <tr>\n",
       "      <th>3</th>\n",
       "      <td>1998</td>\n",
       "      <td>3198</td>\n",
       "      <td>3266</td>\n",
       "      <td>7</td>\n",
       "      <td>10</td>\n",
       "      <td>-3</td>\n",
       "      <td>-2.0</td>\n",
       "    </tr>\n",
       "    <tr>\n",
       "      <th>4</th>\n",
       "      <td>1998</td>\n",
       "      <td>3203</td>\n",
       "      <td>3208</td>\n",
       "      <td>10</td>\n",
       "      <td>7</td>\n",
       "      <td>3</td>\n",
       "      <td>1.0</td>\n",
       "    </tr>\n",
       "  </tbody>\n",
       "</table>\n",
       "</div>"
      ],
      "text/plain": [
       "   Season  WTeamID  LTeamID  WSeed  LSeed  SeedDiff  Record\n",
       "0    1998     3104     3422      2     15       -13     0.0\n",
       "1    1998     3112     3365      3     14       -11     0.0\n",
       "2    1998     3163     3193      2     15       -13     2.0\n",
       "3    1998     3198     3266      7     10        -3    -2.0\n",
       "4    1998     3203     3208     10      7         3     1.0"
      ]
     },
<<<<<<< Updated upstream
     "execution_count": 12,
=======
     "execution_count": 11,
>>>>>>> Stashed changes
     "metadata": {},
     "output_type": "execute_result"
    }
   ],
   "source": [
    "# Add the record between the winning and losing teams to the table\n",
    "record_dict = regSeasonToRecord(df_reg_season)\n",
    "# Iterate through df_concat rows, look for record in dictionary between WTeam and LTeam and add it to the row\n",
    "df_record = pd.DataFrame()\n",
    "for row in df_concat.itertuples():\n",
    "    if ((row[2], row[3]) in record_dict):\n",
    "        df_record = df_record.append(pd.DataFrame([record_dict[(row[2], row[3])]], columns=['Record']), ignore_index=True)\n",
    "    elif ((row[3], row[2]) in record_dict):\n",
    "        df_record = df_record.append(pd.DataFrame([-1.0 * record_dict[(row[3], row[2])]], columns=['Record']), ignore_index=True)\n",
    "    else:\n",
    "        df_record = df_record.append(pd.DataFrame([0], columns=['Record']), ignore_index=True)\n",
    "        \n",
    "df_with_record = pd.concat([df_concat, df_record], axis=1)\n",
    "df_with_record.head()"
   ]
  },
  {
   "cell_type": "code",
<<<<<<< Updated upstream
   "execution_count": 13,
   "metadata": {},
=======
   "execution_count": 14,
   "metadata": {
    "collapsed": false,
    "deletable": true,
    "editable": true
   },
>>>>>>> Stashed changes
   "outputs": [
    {
     "data": {
      "text/html": [
       "<div>\n",
       "<style>\n",
       "    .dataframe thead tr:only-child th {\n",
       "        text-align: right;\n",
       "    }\n",
       "\n",
       "    .dataframe thead th {\n",
       "        text-align: left;\n",
       "    }\n",
       "\n",
       "    .dataframe tbody tr th {\n",
       "        vertical-align: top;\n",
       "    }\n",
       "</style>\n",
       "<table border=\"1\" class=\"dataframe\">\n",
       "  <thead>\n",
       "    <tr style=\"text-align: right;\">\n",
       "      <th></th>\n",
       "      <th>SeedDiff</th>\n",
       "      <th>Record</th>\n",
       "      <th>Result</th>\n",
       "    </tr>\n",
       "  </thead>\n",
       "  <tbody>\n",
       "    <tr>\n",
       "      <th>0</th>\n",
       "      <td>-13</td>\n",
       "      <td>0.0</td>\n",
       "      <td>1</td>\n",
       "    </tr>\n",
       "    <tr>\n",
       "      <th>1</th>\n",
       "      <td>-11</td>\n",
       "      <td>0.0</td>\n",
       "      <td>1</td>\n",
       "    </tr>\n",
       "    <tr>\n",
       "      <th>2</th>\n",
       "      <td>-13</td>\n",
       "      <td>2.0</td>\n",
       "      <td>1</td>\n",
       "    </tr>\n",
       "    <tr>\n",
       "      <th>3</th>\n",
       "      <td>-3</td>\n",
       "      <td>-2.0</td>\n",
       "      <td>1</td>\n",
       "    </tr>\n",
       "    <tr>\n",
       "      <th>4</th>\n",
       "      <td>3</td>\n",
       "      <td>1.0</td>\n",
       "      <td>1</td>\n",
       "    </tr>\n",
       "  </tbody>\n",
       "</table>\n",
       "</div>"
      ],
      "text/plain": [
       "   SeedDiff  Record  Result\n",
       "0       -13     0.0       1\n",
       "1       -11     0.0       1\n",
       "2       -13     2.0       1\n",
       "3        -3    -2.0       1\n",
       "4         3     1.0       1"
      ]
     },
<<<<<<< Updated upstream
     "execution_count": 13,
=======
     "execution_count": 14,
>>>>>>> Stashed changes
     "metadata": {},
     "output_type": "execute_result"
    }
   ],
   "source": [
    "# Now we'll create a dataframe that summarizes wins & losses along with \n",
    "# their corresponding seed differences. This is the meat of what we'll be creating our model on.\n",
    "df_wins = pd.DataFrame()\n",
    "df_wins['SeedDiff'] = df_with_record['SeedDiff']\n",
    "df_wins['Record'] = df_with_record['Record']\n",
    "df_wins['Result'] = 1\n",
    "\n",
    "df_losses = pd.DataFrame()\n",
    "df_losses['SeedDiff'] = -df_with_record['SeedDiff']\n",
    "df_losses['Record'] = -df_with_record['Record']\n",
    "df_losses['Result'] = 0\n",
    "\n",
    "df_predictions = pd.concat((df_wins, df_losses))\n",
    "df_predictions.head()"
   ]
  },
  {
   "cell_type": "code",
<<<<<<< Updated upstream
   "execution_count": 14,
   "metadata": {
    "collapsed": true
=======
   "execution_count": 20,
   "metadata": {
    "collapsed": false,
    "deletable": true,
    "editable": true
>>>>>>> Stashed changes
   },
   "outputs": [],
   "source": [
    "X_train = df_predictions[['SeedDiff', 'Record']].values.reshape(-1,2)\n",
    "y_train = df_predictions.Result.values\n",
    "X_train, y_train = shuffle(X_train, y_train)"
   ]
  },
  {
   "cell_type": "markdown",
   "metadata": {},
   "source": [
    "# Train the Model"
   ]
  },
  {
   "cell_type": "code",
<<<<<<< Updated upstream
   "execution_count": 15,
   "metadata": {},
=======
   "execution_count": 21,
   "metadata": {
    "collapsed": false,
    "deletable": true,
    "editable": true
   },
>>>>>>> Stashed changes
   "outputs": [
    {
     "name": "stdout",
     "output_type": "stream",
     "text": [
<<<<<<< Updated upstream
      "Best log_loss: -0.4569, with best C: 0.01\n"
=======
      "Best log_loss: -0.3878, with best C: 1.0\n"
>>>>>>> Stashed changes
     ]
    }
   ],
   "source": [
    "# Use a basic logistic regression to train the model. You can set different C values to see how performance changes.\n",
    "logreg = LogisticRegression()\n",
    "params = {'C': np.logspace(start=-5, stop=3, num=9)}\n",
    "clf = GridSearchCV(logreg, params, scoring='neg_log_loss', refit=True)\n",
    "clf.fit(X_train, y_train)\n",
    "print('Best log_loss: {:.4}, with best C: {}'.format(clf.best_score_, clf.best_params_['C']))"
   ]
  },
  {
   "cell_type": "code",
   "execution_count": 16,
   "metadata": {},
   "outputs": [
    {
     "data": {
      "text/plain": [
<<<<<<< Updated upstream
       "<matplotlib.text.Text at 0x113fd9250>"
=======
       "<matplotlib.text.Text at 0x119a82c18>"
>>>>>>> Stashed changes
      ]
     },
     "execution_count": 16,
     "metadata": {},
     "output_type": "execute_result"
    },
    {
     "data": {
<<<<<<< Updated upstream
      "image/png": "iVBORw0KGgoAAAANSUhEUgAAAYUAAAEKCAYAAAD9xUlFAAAABHNCSVQICAgIfAhkiAAAAAlwSFlz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\nRLL8P6mM6UivPSb1AAAAAElFTkSuQmCC\n",
      "text/plain": [
       "<matplotlib.figure.Figure at 0x11370fd90>"
=======
      "image/png": "iVBORw0KGgoAAAANSUhEUgAAAYUAAAEKCAYAAAD9xUlFAAAABHNCSVQICAgIfAhkiAAAAAlwSFlz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\nSmXQpKCUUiqDJgWllFIZ/h/5Q3lI/PerygAAAABJRU5ErkJggg==\n",
      "text/plain": [
       "<matplotlib.figure.Figure at 0x11890b2e8>"
>>>>>>> Stashed changes
      ]
     },
     "metadata": {},
     "output_type": "display_data"
    }
   ],
   "source": [
    "X = np.arange(-10, 10).reshape(-1, 2)\n",
    "preds = clf.predict_proba(X)[:,1]\n",
    "\n",
    "plt.figure()\n",
    "plt.plot(X, preds)\n",
    "plt.xlabel('Team1 seed - Team2 seed')\n",
    "plt.ylabel('P(Team1 will win)')"
   ]
  },
  {
   "cell_type": "code",
<<<<<<< Updated upstream
   "execution_count": 18,
   "metadata": {},
=======
   "execution_count": 23,
   "metadata": {
    "collapsed": false,
    "deletable": true,
    "editable": true
   },
>>>>>>> Stashed changes
   "outputs": [],
   "source": [
    "df_sample_sub = pd.read_csv(data_dir + 'WSampleSubmissionStage1.csv')\n",
    "n_test_games = len(df_sample_sub)\n",
    "9yth\n",
    "def get_year_t1_t2(ID):\n",
    "    \"\"\"Return a tuple with ints `year`, `team1` and `team2`.\"\"\"\n",
    "    return (int(x) for x in ID.split('_'))"
   ]
  },
  {
   "cell_type": "code",
<<<<<<< Updated upstream
   "execution_count": 19,
   "metadata": {
    "collapsed": true
=======
   "execution_count": 25,
   "metadata": {
    "collapsed": false,
    "deletable": true,
    "editable": true
>>>>>>> Stashed changes
   },
   "outputs": [
    {
     "name": "stdout",
     "output_type": "stream",
     "text": [
      "[[-2.  1.]\n",
      " [ 4. -2.]\n",
      " [ 0.  0.]\n",
      " ..., \n",
      " [-3.  0.]\n",
      " [-5.  0.]\n",
      " [-2.  0.]]\n"
     ]
    }
   ],
   "source": [
    "X_test = np.zeros(shape=(n_test_games, 2))\n",
    "for ii, row in df_sample_sub.iterrows():\n",
    "    year, t1, t2 = get_year_t1_t2(row.ID)\n",
    "    t1_seed = df_seeds[(df_seeds.TeamID == t1) & (df_seeds.Season == year)].seed_int.values[0]\n",
    "    t2_seed = df_seeds[(df_seeds.TeamID == t2) & (df_seeds.Season == year)].seed_int.values[0]\n",
    "    diff_seed = t1_seed - t2_seed\n",
    "    X_test[ii, 0] = diff_seed\n",
    "    \n",
    "    if ((t1, t2) in record_dict):\n",
    "        X_test[ii, 1] = record_dict[(t1, t2)]\n",
    "    elif ((t2, t1) in record_dict):\n",
    "        X_test[ii, 1] = -1.0 * record_dict[(t2, t1)]\n",
    "    else:\n",
    "        X_test[ii, 1] = 0\n",
    "print(X_test)"
   ]
  },
  {
   "cell_type": "code",
<<<<<<< Updated upstream
   "execution_count": 20,
   "metadata": {},
=======
   "execution_count": 26,
   "metadata": {
    "collapsed": false,
    "deletable": true,
    "editable": true
   },
>>>>>>> Stashed changes
   "outputs": [
    {
     "data": {
      "text/html": [
       "<div>\n",
       "<style>\n",
       "    .dataframe thead tr:only-child th {\n",
       "        text-align: right;\n",
       "    }\n",
       "\n",
       "    .dataframe thead th {\n",
       "        text-align: left;\n",
       "    }\n",
       "\n",
       "    .dataframe tbody tr th {\n",
       "        vertical-align: top;\n",
       "    }\n",
       "</style>\n",
       "<table border=\"1\" class=\"dataframe\">\n",
       "  <thead>\n",
       "    <tr style=\"text-align: right;\">\n",
       "      <th></th>\n",
       "      <th>ID</th>\n",
       "      <th>Pred</th>\n",
       "    </tr>\n",
       "  </thead>\n",
       "  <tbody>\n",
       "    <tr>\n",
       "      <th>0</th>\n",
       "      <td>2014_3103_3107</td>\n",
<<<<<<< Updated upstream
       "      <td>0.628141</td>\n",
=======
       "      <td>0.740673</td>\n",
>>>>>>> Stashed changes
       "    </tr>\n",
       "    <tr>\n",
       "      <th>1</th>\n",
       "      <td>2014_3103_3113</td>\n",
<<<<<<< Updated upstream
       "      <td>0.259513</td>\n",
=======
       "      <td>0.109200</td>\n",
>>>>>>> Stashed changes
       "    </tr>\n",
       "    <tr>\n",
       "      <th>2</th>\n",
       "      <td>2014_3103_3119</td>\n",
       "      <td>0.500000</td>\n",
       "    </tr>\n",
       "    <tr>\n",
       "      <th>3</th>\n",
       "      <td>2014_3103_3124</td>\n",
<<<<<<< Updated upstream
       "      <td>0.052981</td>\n",
=======
       "      <td>0.065007</td>\n",
>>>>>>> Stashed changes
       "    </tr>\n",
       "    <tr>\n",
       "      <th>4</th>\n",
       "      <td>2014_3103_3140</td>\n",
<<<<<<< Updated upstream
       "      <td>0.434841</td>\n",
=======
       "      <td>0.439703</td>\n",
>>>>>>> Stashed changes
       "    </tr>\n",
       "  </tbody>\n",
       "</table>\n",
       "</div>"
      ],
      "text/plain": [
       "               ID      Pred\n",
<<<<<<< Updated upstream
       "0  2014_3103_3107  0.628141\n",
       "1  2014_3103_3113  0.259513\n",
       "2  2014_3103_3119  0.500000\n",
       "3  2014_3103_3124  0.052981\n",
       "4  2014_3103_3140  0.434841"
      ]
     },
     "execution_count": 20,
=======
       "0  2014_3103_3107  0.740673\n",
       "1  2014_3103_3113  0.109200\n",
       "2  2014_3103_3119  0.500000\n",
       "3  2014_3103_3124  0.065007\n",
       "4  2014_3103_3140  0.439703"
      ]
     },
     "execution_count": 26,
>>>>>>> Stashed changes
     "metadata": {},
     "output_type": "execute_result"
    }
   ],
   "source": [
    "preds = clf.predict_proba(X_test)[:,1]\n",
    "\n",
    "clipped_preds = np.clip(preds, 0.05, 0.95)\n",
    "df_sample_sub.Pred = clipped_preds\n",
    "df_sample_sub.head()"
   ]
  },
  {
   "cell_type": "code",
<<<<<<< Updated upstream
   "execution_count": 21,
=======
   "execution_count": 27,
>>>>>>> Stashed changes
   "metadata": {
    "collapsed": true
   },
   "outputs": [],
   "source": [
    "# Create submission file!\n",
    "df_sample_sub.to_csv('regular_season_record.csv', index=False)"
   ]
  },
  {
   "cell_type": "code",
   "execution_count": null,
   "metadata": {
    "collapsed": true
   },
   "outputs": [],
   "source": []
  }
 ],
 "metadata": {
  "kernelspec": {
   "display_name": "Python 2",
   "language": "python",
   "name": "python2"
  },
  "language_info": {
   "codemirror_mode": {
    "name": "ipython",
    "version": 2
   },
   "file_extension": ".py",
   "mimetype": "text/x-python",
   "name": "python",
   "nbconvert_exporter": "python",
   "pygments_lexer": "ipython2",
   "version": "2.7.13"
  },
  "widgets": {
   "state": {},
   "version": "1.1.2"
  }
 },
 "nbformat": 4,
 "nbformat_minor": 2
}
